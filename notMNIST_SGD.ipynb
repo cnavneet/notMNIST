{
 "cells": [
  {
   "cell_type": "code",
   "execution_count": 2,
   "metadata": {},
   "outputs": [],
   "source": [
    "from __future__ import print_function\n",
    "import numpy as np\n",
    "import tensorflow as tf\n",
    "from six.moves import cPickle as pickle\n",
    "from six.moves import range"
   ]
  },
  {
   "cell_type": "code",
   "execution_count": 4,
   "metadata": {},
   "outputs": [
    {
     "name": "stdout",
     "output_type": "stream",
     "text": [
      "Training set (20000, 28, 28) (20000,)\n",
      "Validation set (10000, 28, 28) (10000,)\n",
      "Test set (10000, 28, 28) (10000,)\n"
     ]
    }
   ],
   "source": [
    "#Reloading the data we generated in notMNIST.ipynb for simple gradient descent\n",
    "\n",
    "pickle_file = 'notMNIST.pickle'\n",
    "\n",
    "with open(pickle_file, 'rb') as f:\n",
    "    save = pickle.load(f)\n",
    "    train_dataset = save['train_dataset']\n",
    "    train_labels = save['train_labels']\n",
    "    valid_dataset = save['valid_dataset']\n",
    "    valid_labels = save['valid_labels']\n",
    "    test_dataset = save['test_dataset']\n",
    "    test_labels = save['test_labels']\n",
    "    del save #hint to help gc free up memory\n",
    "    print(\"Training set\", train_dataset.shape, train_labels.shape)\n",
    "    print(\"Validation set\", valid_dataset.shape, valid_labels.shape)\n",
    "    print(\"Test set\", test_dataset.shape, test_labels.shape)"
   ]
  },
  {
   "cell_type": "code",
   "execution_count": 6,
   "metadata": {},
   "outputs": [
    {
     "name": "stdout",
     "output_type": "stream",
     "text": [
      "Training set (20000, 784) (20000, 10)\n",
      "Validation set (10000, 784) (10000, 10)\n",
      "Test set (10000, 784) (10000, 10)\n"
     ]
    }
   ],
   "source": [
    "#Reformatting into a shape that's more adapted to the models we are going to train,i.e.,\n",
    "#1. Data as flat matrix, and\n",
    "#2. Labels as float 1-hot encodings.\n",
    "\n",
    "image_size = 28\n",
    "num_labels = 10\n",
    "\n",
    "def reformat(dataset, labels):\n",
    "    dataset = dataset.reshape((-1, image_size*image_size)).astype(np.float32)\n",
    "    labels = (np.arange(num_labels) == labels[:, None]).astype(np.float32)\n",
    "    return dataset, labels\n",
    "\n",
    "train_dataset, train_labels = reformat(train_dataset, train_labels)\n",
    "valid_dataset, valid_labels = reformat(valid_dataset, valid_labels)\n",
    "test_dataset, test_labels = reformat(test_dataset, test_labels)\n",
    "\n",
    "print(\"Training set\", train_dataset.shape, train_labels.shape)\n",
    "print(\"Validation set\", valid_dataset.shape, valid_labels.shape)\n",
    "print(\"Test set\", test_dataset.shape, test_labels.shape)"
   ]
  },
  {
   "cell_type": "code",
   "execution_count": 11,
   "metadata": {},
   "outputs": [],
   "source": [
    "#First training multinomial logistic regression using Gradient Descent.\n",
    "#TensorFlow works like this...\n",
    "\n",
    "#Firstly, we need to describe the computation we want to see performed: what the inputs, the variables and \n",
    "#the operations looks like. These get created as nodes over a computation graph,i.e., with graph.as_default():\n",
    "\n",
    "#Secondly, after creating nodes on the graph, we can run the operations on the graph as many times as we want by\n",
    "#calling session.run() , providing it's outputs to fetch from the graph that get returned. The run time operation is:\n",
    "#    with tf.Session(graph=graph) as session:..\n",
    "\n",
    "#Now loading all the data into the tensorflow and building the computation graph corresponding to our training.\n",
    "\n",
    "#with gradient descent training this much data is prohibitive, hence, we are taking the subset of data for faster turnaround.\n",
    "\n",
    "train_subset = 10000\n",
    "\n",
    "graph = tf.Graph()\n",
    "with graph.as_default():\n",
    "    \n",
    "    #loading the traing, validation and test data into constants that are attached to the graph.\n",
    "    tf_train_dataset = tf.constant(train_dataset[:train_subset, :])\n",
    "    tf_train_labels = tf.constant(train_labels[:train_subset])\n",
    "    tf_valid_dataset = tf.constant(valid_dataset)\n",
    "    tf_test_dataset = tf.constant(test_dataset)\n",
    "    \n",
    "    #Variables\n",
    "    #These are the parameters that are going to be trained.The weight matrix will be initialized using random values\n",
    "    #following a (truncated) normal distribution. The biases get initialized to zero.\n",
    "    weights = tf.Variable(tf.truncated_normal([image_size * image_size, num_labels]))\n",
    "    biases = tf.Variable(tf.zeros([num_labels]))\n",
    "    \n",
    "    #Training computation.\n",
    "    #We multiply the inputs with the weight matrix,and add biases. WEe compute the softmax and cross-entropy(it's one \n",
    "    #operation in tensorflow). We take the average of this cross-entropy across all training examples(that'sour loss).\n",
    "    logits = tf.matmul(tf_train_dataset, weights) + biases\n",
    "    loss = tf.reduce_mean(tf.nn.softmax_cross_entropy_with_logits(labels=tf_train_labels, logits=logits))\n",
    "    \n",
    "    #finding the minimum of this loss using gradient descent with learning rate as low as ~0.5.\n",
    "    optimizer = tf.train.GradientDescentOptimizer(0.5).minimize(loss)\n",
    "    \n",
    "    #predictions for training, validation and test data. These are not part of training nut merely here to report\n",
    "    #accuracy figure as we train.\n",
    "    train_prediction = tf.nn.softmax(logits)\n",
    "    valid_prediction = tf.nn.softmax(tf.matmul(tf_valid_dataset, weights) + biases)\n",
    "    test_prediction = tf.nn.softmax(tf.matmul(tf_test_dataset, weights) + biases)"
   ]
  },
  {
   "cell_type": "code",
   "execution_count": 18,
   "metadata": {},
   "outputs": [
    {
     "name": "stdout",
     "output_type": "stream",
     "text": [
      "Initialized\n",
      "Loss at step 0: 18.299545\n",
      "Training accuracy: 6.9%\n",
      "Validation accuracy: 9.2%\n",
      "Loss at step 100: 2.328392\n",
      "Training accuracy: 71.8%\n",
      "Validation accuracy: 70.1%\n",
      "Loss at step 200: 1.897246\n",
      "Training accuracy: 74.8%\n",
      "Validation accuracy: 72.5%\n",
      "Loss at step 300: 1.652696\n",
      "Training accuracy: 76.0%\n",
      "Validation accuracy: 73.3%\n",
      "Loss at step 400: 1.484657\n",
      "Training accuracy: 76.8%\n",
      "Validation accuracy: 74.0%\n",
      "Loss at step 500: 1.359216\n",
      "Training accuracy: 77.5%\n",
      "Validation accuracy: 74.3%\n",
      "Loss at step 600: 1.260373\n",
      "Training accuracy: 77.9%\n",
      "Validation accuracy: 74.6%\n",
      "Loss at step 700: 1.179547\n",
      "Training accuracy: 78.5%\n",
      "Validation accuracy: 74.8%\n",
      "Loss at step 800: 1.111882\n",
      "Training accuracy: 78.9%\n",
      "Validation accuracy: 74.8%\n",
      "Test accuracy: 82.9%\n"
     ]
    }
   ],
   "source": [
    "#running the above computation with iterating 801 time.\n",
    "\n",
    "num_steps = 801\n",
    "\n",
    "def accuracy(predictions, labels):\n",
    "    return (100.0*np.sum(np.argmax(predictions, 1) == np.argmax(labels, 1)) / predictions.shape[0])\n",
    "\n",
    "with tf.Session(graph=graph) as session:\n",
    "    #this is a one time operation which ensures the parameters get initialized as we describe in the graph:\n",
    "    #random weights for the matrix and zeros for the biases.\n",
    "    tf.global_variables_initializer().run()\n",
    "    print(\"Initialized\")\n",
    "    for step in range(num_steps):\n",
    "        #Running the computations. We tell .run() that we want to run the optimizer, get the loss value and the training\n",
    "        #predictions returned as numpy array.\n",
    "        _, l, predictions = session.run([optimizer, loss, train_prediction])\n",
    "        if(step % 100 == 0):\n",
    "            print(\"Loss at step %d: %f\" % (step, l))\n",
    "            print('Training accuracy: %.1f%%' % accuracy(predictions, train_labels[:train_subset, :]))\n",
    "            #calling .eval() on vallid_prediction is basically like callin run(), but just to get \n",
    "            #that one numpy array. It recomputes all it's graph dependencies.\n",
    "            print(\"Validation accuracy: %.1f%%\" % accuracy(valid_prediction.eval(), valid_labels))\n",
    "            \n",
    "    print(\"Test accuracy: %.1f%%\" % accuracy(test_prediction.eval(), test_labels))"
   ]
  },
  {
   "cell_type": "code",
   "execution_count": null,
   "metadata": {},
   "outputs": [],
   "source": []
  },
  {
   "cell_type": "code",
   "execution_count": null,
   "metadata": {},
   "outputs": [],
   "source": []
  },
  {
   "cell_type": "code",
   "execution_count": null,
   "metadata": {},
   "outputs": [],
   "source": []
  },
  {
   "cell_type": "code",
   "execution_count": null,
   "metadata": {},
   "outputs": [],
   "source": []
  }
 ],
 "metadata": {
  "kernelspec": {
   "display_name": "Python 3",
   "language": "python",
   "name": "python3"
  },
  "language_info": {
   "codemirror_mode": {
    "name": "ipython",
    "version": 3
   },
   "file_extension": ".py",
   "mimetype": "text/x-python",
   "name": "python",
   "nbconvert_exporter": "python",
   "pygments_lexer": "ipython3",
   "version": "3.6.4"
  }
 },
 "nbformat": 4,
 "nbformat_minor": 2
}
